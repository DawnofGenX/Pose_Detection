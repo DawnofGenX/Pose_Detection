{
 "cells": [
  {
   "cell_type": "code",
   "execution_count": 1,
   "metadata": {},
   "outputs": [],
   "source": [
    "import cv2\n",
    "import numpy as np\n",
    "import json\n",
    "import os\n",
    "from matplotlib import pyplot as plt\n"
   ]
  },
  {
   "cell_type": "code",
   "execution_count": null,
   "metadata": {},
   "outputs": [],
   "source": [
    "# Load MPII annotations\n",
    "with open(\"path_to_mpii_annotations.json\", \"r\") as f:\n",
    "    annotations = json.load(f)\n",
    "\n",
    "# Define a function to preprocess and load images and keypoints\n",
    "def load_data(annotations, image_folder=\"path_to_images\"):\n",
    "    images = []\n",
    "    keypoints_list = []\n",
    "    for ann in annotations:\n",
    "        # Load image\n",
    "        img_path = os.path.join(image_folder, ann[\"image_id\"] + \".jpg\")\n",
    "        img = cv2.imread(img_path)\n",
    "        if img is None:\n",
    "            continue\n",
    "        \n",
    "        # Resize image (optional, to maintain consistency)\n",
    "        img = cv2.resize(img, (256, 256))\n",
    "        \n",
    "        # Normalize keypoints to resized image\n",
    "        keypoints = np.array(ann[\"keypoints\"]).reshape(-1, 3)  # shape (16, 3)\n",
    "        \n",
    "        images.append(img)\n",
    "        keypoints_list.append(keypoints)\n",
    "    \n",
    "    return images, keypoints_list\n",
    "\n",
    "images, keypoints_list = load_data(annotations)\n"
   ]
  },
  {
   "cell_type": "code",
   "execution_count": null,
   "metadata": {},
   "outputs": [],
   "source": [
    "def augment_data(img, keypoints):\n",
    "    # Flip image horizontally\n",
    "    flipped_img = cv2.flip(img, 1)\n",
    "    flipped_keypoints = keypoints.copy()\n",
    "    flipped_keypoints[:, 0] = img.shape[1] - keypoints[:, 0]  # Mirror x-coordinates\n",
    "    \n",
    "    # Return both original and augmented data\n",
    "    return [(img, keypoints), (flipped_img, flipped_keypoints)]\n"
   ]
  },
  {
   "cell_type": "code",
   "execution_count": null,
   "metadata": {},
   "outputs": [],
   "source": [
    "# Helper function to calculate angle between three points\n",
    "def calculate_angle(a, b, c):\n",
    "    ba = a - b\n",
    "    bc = c - b\n",
    "    cosine_angle = np.dot(ba, bc) / (np.linalg.norm(ba) * np.linalg.norm(bc))\n",
    "    angle = np.arccos(cosine_angle)\n",
    "    return np.degrees(angle)\n",
    "\n",
    "# Pose Detection Logic\n",
    "def detect_pose(keypoints):\n",
    "    # Define keypoints for specific joints\n",
    "    left_hip, left_knee, left_ankle = keypoints[11], keypoints[12], keypoints[13]\n",
    "    right_hip, right_knee, right_ankle = keypoints[8], keypoints[9], keypoints[10]\n",
    "    \n",
    "    # Walking Detection Logic\n",
    "    if abs(left_knee[1] - right_knee[1]) > 20 and abs(left_ankle[0] - right_ankle[0]) > 10:\n",
    "        return \"Walking\"\n",
    "    \n",
    "    # Squatting Detection Logic\n",
    "    left_knee_angle = calculate_angle(left_hip, left_knee, left_ankle)\n",
    "    right_knee_angle = calculate_angle(right_hip, right_knee, right_ankle)\n",
    "    if left_knee_angle < 90 or right_knee_angle < 90:\n",
    "        return \"Squatting\"\n",
    "    \n",
    "    # Jumping Detection Logic\n",
    "    if left_knee[1] < 100 and right_knee[1] < 100:  # Replace 100 with appropriate threshold\n",
    "        return \"Jumping\"\n",
    "    \n",
    "    return \"Unknown Pose\"\n"
   ]
  },
  {
   "cell_type": "code",
   "execution_count": null,
   "metadata": {},
   "outputs": [],
   "source": [
    "def visualize_keypoints(img, keypoints):\n",
    "    for x, y, visibility in keypoints:\n",
    "        if visibility > 0:  # Visible keypoint\n",
    "            cv2.circle(img, (int(x), int(y)), 5, (0, 255, 0), -1)\n",
    "    plt.imshow(cv2.cvtColor(img, cv2.COLOR_BGR2RGB))\n",
    "    plt.axis(\"off\")\n",
    "    plt.show()\n"
   ]
  },
  {
   "cell_type": "code",
   "execution_count": null,
   "metadata": {},
   "outputs": [],
   "source": [
    "for img, keypoints in zip(images, keypoints_list):\n",
    "    pose = detect_pose(keypoints)\n",
    "    \n",
    "    # Visualize image with keypoints\n",
    "    visualize_keypoints(img.copy(), keypoints)\n",
    "    \n",
    "    # Display detected pose\n",
    "    print(f\"Detected Pose: {pose}\")\n"
   ]
  },
  {
   "cell_type": "code",
   "execution_count": null,
   "metadata": {},
   "outputs": [],
   "source": [
    "cap = cv2.VideoCapture(0)  # 0 for default camera\n",
    "\n",
    "while cap.isOpened():\n",
    "    ret, frame = cap.read()\n",
    "    if not ret:\n",
    "        break\n",
    "\n",
    "    # Process frame to detect pose (you would need real-time keypoint detection for this)\n",
    "    # Here, we would use a pre-trained model to predict keypoints in real-time\n",
    "    keypoints = predict_keypoints(frame)  # Replace with actual keypoint prediction\n",
    "    \n",
    "    pose = detect_pose(keypoints)\n",
    "    \n",
    "    # Visualize and display pose\n",
    "    visualize_keypoints(frame, keypoints)\n",
    "    cv2.putText(frame, f\"Pose: {pose}\", (10, 30), cv2.FONT_HERSHEY_SIMPLEX, 1, (255, 0, 0), 2)\n",
    "    \n",
    "    cv2.imshow(\"Pose Detection\", frame)\n",
    "    if cv2.waitKey(1) & 0xFF == ord('q'):\n",
    "        break\n",
    "\n",
    "cap.release()\n",
    "cv2.destroyAllWindows()\n"
   ]
  }
 ],
 "metadata": {
  "kernelspec": {
   "display_name": "Python 3",
   "language": "python",
   "name": "python3"
  },
  "language_info": {
   "codemirror_mode": {
    "name": "ipython",
    "version": 3
   },
   "file_extension": ".py",
   "mimetype": "text/x-python",
   "name": "python",
   "nbconvert_exporter": "python",
   "pygments_lexer": "ipython3",
   "version": "3.8.10"
  }
 },
 "nbformat": 4,
 "nbformat_minor": 2
}
